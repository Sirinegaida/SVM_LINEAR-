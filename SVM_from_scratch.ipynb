{
  "cells": [
    {
      "cell_type": "markdown",
      "metadata": {
        "id": "view-in-github",
        "colab_type": "text"
      },
      "source": [
        "<a href=\"https://colab.research.google.com/github/Sirinegaida/SVM_LINEAR-/blob/main/SVM_from_scratch.ipynb\" target=\"_parent\"><img src=\"https://colab.research.google.com/assets/colab-badge.svg\" alt=\"Open In Colab\"/></a>"
      ]
    },
    {
      "cell_type": "markdown",
      "metadata": {
        "collapsed": true,
        "id": "lrWGj1AqMYf1"
      },
      "source": [
        "# SVM from Scratch"
      ]
    },
    {
      "cell_type": "markdown",
      "metadata": {
        "id": "N8gBqnykMYf3"
      },
      "source": [
        "## Linear SVM\n",
        "### y = mx + b\n",
        "\n",
        "### y = x + z + b + q"
      ]
    },
    {
      "cell_type": "code",
      "execution_count": null,
      "metadata": {
        "colab": {
          "base_uri": "https://localhost:8080/",
          "height": 282
        },
        "id": "jhFnIMjzMYf4",
        "outputId": "3723d889-713e-4bc6-de72-98b36595aee5"
      },
      "outputs": [
        {
          "output_type": "execute_result",
          "data": {
            "text/plain": [
              "[<matplotlib.lines.Line2D at 0x7f9cbc394c40>]"
            ]
          },
          "metadata": {},
          "execution_count": 1
        },
        {
          "output_type": "display_data",
          "data": {
            "text/plain": [
              "<Figure size 432x288 with 1 Axes>"
            ],
            "image/png": "[encoded data removed]"
          },
          "metadata": {
            "needs_background": "light"
          }
        }
      ],
      "source": [
        "#هذه المكتبه تساعدنا على القيام بعمليات حسابيه على المصفوفات\n",
        "import numpy as np\n",
        "#هذه المكتبه خاصة بالرسم\n",
        "from matplotlib import pyplot as plt\n",
        "%matplotlib inline\n",
        "\n",
        "#اولاً نقوم بإنشاء مصفوفة نبماي  لنشكل البيانات dummy data creation\n",
        "\n",
        "#المدخلات تكون على الصيغة التاليه - [X قيمة, Y قيمة, Bias term]\n",
        "X = np.array([\n",
        "    [-2,4,-1],\n",
        "    [4,1,-1],\n",
        "    [1, 6, -1],\n",
        "    [2, 4, -1],\n",
        "    [6, 2, -1],\n",
        "])\n",
        "\n",
        "# التسميات حيث سنقوم باعتبار العينتين الاولى سالب 1 و الثالث الاخرى على انهن موجب 1\n",
        "y = np.array([-1,-1,1,1,1])\n",
        "\n",
        "#لنرسم العينات على شكل ثنائي الابعاد هنا\n",
        "for d, sample in enumerate(X):\n",
        "    # رسم العينات السالبه\n",
        "    if d < 2:\n",
        "        plt.scatter(sample[0], sample[1], s=120, marker='_', linewidths=2)\n",
        "    # رسم العيانات الموجبه\n",
        "    else:\n",
        "        plt.scatter(sample[0], sample[1], s=120, marker='+', linewidths=2)\n",
        "\n",
        "# رسم خط إفتراضي فاصل بين الكلاسين\n",
        "# نفرض ذلك من خلال رسم خط بين نقطتين قمنا بتحديدهم كما يلي\n",
        "plt.plot([-2,6],[6,0.5])"
      ]
    },
    {
      "cell_type": "markdown",
      "metadata": {
        "id": "QToC-6DWMYgD"
      },
      "source": [
        "# حساب الخطأباستخدام معادلة Hinge Loss\n",
        "## نستخدم هذه المعادلة لحساب الخطأحيث غالباً ما تستخدم في تصنيف البيانات و maximum margin "
      ]
    },
    {
      "cell_type": "markdown",
      "metadata": {
        "id": "nHKvG5n-MYgD"
      },
      "source": [
        "## c(x,y,f(x)) = (1 - y*f(x))+"
      ]
    },
    {
      "cell_type": "markdown",
      "metadata": {
        "id": "qZWvB_aYMYgE"
      },
      "source": [
        "![title](img/hinge.png)"
      ]
    },
    {
      "cell_type": "markdown",
      "metadata": {
        "id": "2o-4zpw8MYgE"
      },
      "source": [
        "# Objective Function"
      ]
    },
    {
      "cell_type": "markdown",
      "metadata": {
        "id": "G3TUqDmOMYgE"
      },
      "source": [
        "![title](img/act.png)"
      ]
    },
    {
      "cell_type": "markdown",
      "metadata": {
        "id": "oznLUYpMMYgE"
      },
      "source": [
        "## What is regularizer ?\n",
        "\n",
        "### هو الجزء المسؤل عن الضبط بين قيمة الخطأ تكبير الهامش margin maximization"
      ]
    },
    {
      "cell_type": "markdown",
      "metadata": {
        "id": "yYJpjQTfMYgF"
      },
      "source": [
        "# كيف يحدث التعليم رياضياً؟"
      ]
    },
    {
      "cell_type": "markdown",
      "metadata": {
        "id": "ntLwrdRuMYgF"
      },
      "source": [
        "# ![title](img/opt.png)"
      ]
    },
    {
      "cell_type": "markdown",
      "metadata": {
        "id": "yuwMV2OBMYgF"
      },
      "source": [
        "# الوزن Weight\n",
        "# What is the weight ?"
      ]
    },
    {
      "cell_type": "markdown",
      "metadata": {
        "id": "pMONzmvvMYgF"
      },
      "source": [
        "## الوزن هو عباره عن متجه و يرسم لنا موقع خط القرار او الخط الفاصل"
      ]
    },
    {
      "cell_type": "markdown",
      "metadata": {
        "id": "Y_EydU3SMYgG"
      },
      "source": [
        "## شرط التصنيف الخطأ"
      ]
    },
    {
      "cell_type": "markdown",
      "metadata": {
        "id": "1DYxl9TjMYgG"
      },
      "source": [
        "![title](img/m.png)"
      ]
    },
    {
      "cell_type": "markdown",
      "metadata": {
        "id": "iQhLDus5MYgG"
      },
      "source": [
        "### في حالة التصنيف الخطأ نقوم بتحديث قيمة الوزن في معادلة الخسارة و المنظم باستخدام المعادلة التاليه "
      ]
    },
    {
      "cell_type": "markdown",
      "metadata": {
        "id": "TlZCZbozMYgG"
      },
      "source": [
        "![title](img/w.png)"
      ]
    },
    {
      "cell_type": "markdown",
      "metadata": {
        "id": "1CuxjCWOMYgG"
      },
      "source": [
        "#### n = learning rate معدل التعليم\n",
        "#### λ = regularizer المنظم\n",
        "\n",
        "#### مهمة معدل التعليم انه يعمل كمقدار المسافة التي نقطعها في البحث في داخل منحنى الخطأ\n",
        "\n",
        "#### معدل تعليم عالي: الخوارزمية قد تتجاوز اقل نقطة خطأ و يتم الامر بسرعه\n",
        "#### معدل تعليم منخفض: قد ياخذ البحث مليون سنه ضوئيه لتصل و ربما لتصل "
      ]
    },
    {
      "cell_type": "markdown",
      "metadata": {
        "id": "SABEmv_nMYgH"
      },
      "source": [
        "### المنظم يتحكم بالمعادلة بين تحقيق قيمة خطأمنخفضه في التدريب و في الفحص\n",
        "#### قيمة منظم مرتفع: خطأ كبير في الفحص \n",
        "#### قيمة منظم منخفضه: خطأ كبير في التدريب\n",
        "### Regularizer value = 1/ epoch\n",
        "\n",
        "### تعديل الوزن في حالة التصنيف الصحيح يكون في معادلة المنظممن المعادلة التاليه"
      ]
    },
    {
      "cell_type": "markdown",
      "metadata": {
        "id": "iu_NzOHWMYgH"
      },
      "source": [
        "![title](img/wy.png)"
      ]
    },
    {
      "cell_type": "code",
      "execution_count": null,
      "metadata": {
        "colab": {
          "base_uri": "https://localhost:8080/",
          "height": 483
        },
        "id": "ieXNYrYkMYgH",
        "outputId": "6d0c3568-68d5-46ef-d16c-90a1976ccb8f"
      },
      "outputs": [
        {
          "output_type": "error",
          "ename": "TypeError",
          "evalue": "ignored",
          "traceback": [
            "\u001b[0;31m---------------------------------------------------------------------------\u001b[0m",
            "\u001b[0;31mTypeError\u001b[0m                                 Traceback (most recent call last)",
            "\u001b[0;32m<ipython-input-14-dbab08d5ef45>\u001b[0m in \u001b[0;36m<module>\u001b[0;34m\u001b[0m\n\u001b[1;32m     40\u001b[0m \u001b[0;34m\u001b[0m\u001b[0m\n\u001b[1;32m     41\u001b[0m \u001b[0;31m# Print the hyperplane calculated by svm_sgd()\u001b[0m\u001b[0;34m\u001b[0m\u001b[0;34m\u001b[0m\u001b[0;34m\u001b[0m\u001b[0m\n\u001b[0;32m---> 42\u001b[0;31m \u001b[0mx2\u001b[0m\u001b[0;34m=\u001b[0m\u001b[0;34m[\u001b[0m\u001b[0mw\u001b[0m\u001b[0;34m[\u001b[0m\u001b[0;36m0\u001b[0m\u001b[0;34m]\u001b[0m\u001b[0;34m,\u001b[0m\u001b[0;34m-\u001b[0m\u001b[0mw\u001b[0m\u001b[0;34m[\u001b[0m\u001b[0;36m1\u001b[0m\u001b[0;34m]\u001b[0m\u001b[0;34m,\u001b[0m\u001b[0mw\u001b[0m\u001b[0;34m[\u001b[0m\u001b[0;36m1\u001b[0m\u001b[0;34m]\u001b[0m\u001b[0;34m,\u001b[0m\u001b[0mw\u001b[0m\u001b[0;34m[\u001b[0m\u001b[0;36m0\u001b[0m\u001b[0;34m]\u001b[0m\u001b[0;34m]\u001b[0m\u001b[0;34m\u001b[0m\u001b[0;34m\u001b[0m\u001b[0m\n\u001b[0m\u001b[1;32m     43\u001b[0m \u001b[0mx3\u001b[0m\u001b[0;34m=\u001b[0m\u001b[0;34m[\u001b[0m\u001b[0mw\u001b[0m\u001b[0;34m[\u001b[0m\u001b[0;36m0\u001b[0m\u001b[0;34m]\u001b[0m\u001b[0;34m,\u001b[0m\u001b[0mw\u001b[0m\u001b[0;34m[\u001b[0m\u001b[0;36m1\u001b[0m\u001b[0;34m]\u001b[0m\u001b[0;34m,\u001b[0m\u001b[0mw\u001b[0m\u001b[0;34m[\u001b[0m\u001b[0;36m1\u001b[0m\u001b[0;34m]\u001b[0m\u001b[0;34m,\u001b[0m\u001b[0;34m-\u001b[0m\u001b[0mw\u001b[0m\u001b[0;34m[\u001b[0m\u001b[0;36m0\u001b[0m\u001b[0;34m]\u001b[0m\u001b[0;34m]\u001b[0m\u001b[0;34m\u001b[0m\u001b[0;34m\u001b[0m\u001b[0m\n\u001b[1;32m     44\u001b[0m \u001b[0;34m\u001b[0m\u001b[0m\n",
            "\u001b[0;31mTypeError\u001b[0m: 'NoneType' object is not subscriptable"
          ]
        },
        {
          "output_type": "display_data",
          "data": {
            "text/plain": [
              "<Figure size 432x288 with 1 Axes>"
            ],
            "image/png": "[encoded data removed]"
          },
          "metadata": {
            "needs_background": "light"
          }
        }
      ],
      "source": [
        "#lets perform stochastic gradient descent to learn the seperating hyperplane between both classes\n",
        "\n",
        "def svm_sgd_plot(X, Y):\n",
        "\n",
        "    w = np.zeros(len(X[0]))\n",
        "    eta = 1\n",
        "    epochs = 100000\n",
        "    errors = []\n",
        "\n",
        "\n",
        "    for epoch in range(1,epochs):\n",
        "        error = 0\n",
        "        for i, x in enumerate(X):\n",
        "            if (Y[i]*np.dot(X[i], w)) < 1:\n",
        "                w = w + eta * ( (X[i] * Y[i]) + (-2  *(1/epoch)* w) )\n",
        "                error = 1\n",
        "            else:\n",
        "                w = w + eta * (-2  *(1/epoch)* w)\n",
        "        errors.append(error)\n",
        "\n",
        "    plt.plot(errors, '|')\n",
        "    plt.ylim(0.5,1.5)\n",
        "    plt.axes().set_yticklabels([])\n",
        "    plt.xlabel('Epoch')\n",
        "    plt.ylabel('Misclassified')\n",
        "    plt.show()\n",
        "    \n",
        "for d, sample in enumerate(X):\n",
        "    # Plot the negative samples\n",
        "    if d < 2:\n",
        "        plt.scatter(sample[0], sample[1], s=120, marker='_', linewidths=2)\n",
        "    # Plot the positive samples\n",
        "    else:\n",
        "        plt.scatter(sample[0], sample[1], s=120, marker='+', linewidths=2)\n",
        "\n",
        "# Add our test samples\n",
        "\n",
        "plt.scatter(2,2, s=120, marker='_', linewidths=2, color='yellow')\n",
        "plt.scatter(4,3, s=120, marker='+', linewidths=2, color='blue')\n",
        "\n",
        "# Print the hyperplane calculated by svm_sgd()\n",
        "x2=[w[0],-w[1],w[1],w[0]]\n",
        "x3=[w[0],w[1],w[1],-w[0]]\n",
        "\n",
        "x2x3 =np.array([x2,x3])\n",
        "X,Y,U,V = zip(*x2x3)\n",
        "ax = plt.gca()\n",
        "ax.quiver(X,Y,U,V,scale=1, color='blue')"
      ]
    },
    {
      "cell_type": "code",
      "execution_count": null,
      "metadata": {
        "colab": {
          "base_uri": "https://localhost:8080/",
          "height": 334
        },
        "id": "pAopFZXUMYgI",
        "outputId": "c5b3f37a-e14c-43df-fd00-967d690a526a"
      },
      "outputs": [
        {
          "output_type": "stream",
          "name": "stderr",
          "text": [
            "<ipython-input-14-dbab08d5ef45>:23: MatplotlibDeprecationWarning: Adding an axes using the same arguments as a previous axes currently reuses the earlier instance.  In a future version, a new instance will always be created and returned.  Meanwhile, this warning can be suppressed, and the future behavior ensured, by passing a unique label to each axes instance.\n",
            "  plt.axes().set_yticklabels([])\n"
          ]
        },
        {
          "output_type": "display_data",
          "data": {
            "text/plain": [
              "<Figure size 432x288 with 1 Axes>"
            ],
            "image/png": "[encoded data removed]"
          },
          "metadata": {
            "needs_background": "light"
          }
        }
      ],
      "source": [
        "w = svm_sgd_plot(X,y)\n",
        "#they decrease over time! Our SVM is learning the optimal hyperplane"
      ]
    },
    {
      "cell_type": "code",
      "execution_count": null,
      "metadata": {
        "collapsed": true,
        "id": "WufeuGUYMYgI"
      },
      "outputs": [],
      "source": []
    }
  ],
  "metadata": {
    "anaconda-cloud": {},
    "kernelspec": {
      "display_name": "Python [Root]",
      "language": "python",
      "name": "Python [Root]"
    },
    "colab": {
      "provenance": [],
      "include_colab_link": true
    }
  },
  "nbformat": 4,
  "nbformat_minor": 0
}